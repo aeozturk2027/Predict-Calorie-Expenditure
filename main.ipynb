{
 "cells": [
  {
   "cell_type": "code",
   "execution_count": 17,
   "id": "ab4f1450-bfe0-4221-a290-c9d4eef86b5d",
   "metadata": {},
   "outputs": [
    {
     "name": "stdout",
     "output_type": "stream",
     "text": [
      "Collecting optuna\n",
      "  Downloading optuna-4.4.0-py3-none-any.whl.metadata (17 kB)\n",
      "Collecting alembic>=1.5.0 (from optuna)\n",
      "  Downloading alembic-1.16.4-py3-none-any.whl.metadata (7.3 kB)\n",
      "Collecting colorlog (from optuna)\n",
      "  Downloading colorlog-6.9.0-py3-none-any.whl.metadata (10 kB)\n",
      "Requirement already satisfied: numpy in c:\\users\\ahmet\\appdata\\local\\programs\\python\\python313\\lib\\site-packages (from optuna) (2.2.6)\n",
      "Requirement already satisfied: packaging>=20.0 in c:\\users\\ahmet\\appdata\\local\\programs\\python\\python313\\lib\\site-packages (from optuna) (25.0)\n",
      "Requirement already satisfied: sqlalchemy>=1.4.2 in c:\\users\\ahmet\\appdata\\local\\programs\\python\\python313\\lib\\site-packages (from optuna) (2.0.41)\n",
      "Requirement already satisfied: tqdm in c:\\users\\ahmet\\appdata\\local\\programs\\python\\python313\\lib\\site-packages (from optuna) (4.67.1)\n",
      "Requirement already satisfied: PyYAML in c:\\users\\ahmet\\appdata\\local\\programs\\python\\python313\\lib\\site-packages (from optuna) (6.0.2)\n",
      "Collecting Mako (from alembic>=1.5.0->optuna)\n",
      "  Downloading mako-1.3.10-py3-none-any.whl.metadata (2.9 kB)\n",
      "Requirement already satisfied: typing-extensions>=4.12 in c:\\users\\ahmet\\appdata\\local\\programs\\python\\python313\\lib\\site-packages (from alembic>=1.5.0->optuna) (4.14.0)\n",
      "Requirement already satisfied: greenlet>=1 in c:\\users\\ahmet\\appdata\\local\\programs\\python\\python313\\lib\\site-packages (from sqlalchemy>=1.4.2->optuna) (3.2.3)\n",
      "Requirement already satisfied: colorama in c:\\users\\ahmet\\appdata\\local\\programs\\python\\python313\\lib\\site-packages (from colorlog->optuna) (0.4.6)\n",
      "Requirement already satisfied: MarkupSafe>=0.9.2 in c:\\users\\ahmet\\appdata\\local\\programs\\python\\python313\\lib\\site-packages (from Mako->alembic>=1.5.0->optuna) (3.0.2)\n",
      "Downloading optuna-4.4.0-py3-none-any.whl (395 kB)\n",
      "Downloading alembic-1.16.4-py3-none-any.whl (247 kB)\n",
      "Downloading colorlog-6.9.0-py3-none-any.whl (11 kB)\n",
      "Downloading mako-1.3.10-py3-none-any.whl (78 kB)\n",
      "Installing collected packages: Mako, colorlog, alembic, optuna\n",
      "\n",
      "   ---------------------------------------- 0/4 [Mako]\n",
      "   ---------------------------------------- 0/4 [Mako]\n",
      "   ---------------------------------------- 0/4 [Mako]\n",
      "   ---------------------------------------- 0/4 [Mako]\n",
      "   ---------------------------------------- 0/4 [Mako]\n",
      "   ---------------------------------------- 0/4 [Mako]\n",
      "   ---------------------------------------- 0/4 [Mako]\n",
      "   ---------------------------------------- 0/4 [Mako]\n",
      "   ---------- ----------------------------- 1/4 [colorlog]\n",
      "   -------------------- ------------------- 2/4 [alembic]\n",
      "   -------------------- ------------------- 2/4 [alembic]\n",
      "   -------------------- ------------------- 2/4 [alembic]\n",
      "   -------------------- ------------------- 2/4 [alembic]\n",
      "   -------------------- ------------------- 2/4 [alembic]\n",
      "   -------------------- ------------------- 2/4 [alembic]\n",
      "   -------------------- ------------------- 2/4 [alembic]\n",
      "   -------------------- ------------------- 2/4 [alembic]\n",
      "   -------------------- ------------------- 2/4 [alembic]\n",
      "   -------------------- ------------------- 2/4 [alembic]\n",
      "   -------------------- ------------------- 2/4 [alembic]\n",
      "   -------------------- ------------------- 2/4 [alembic]\n",
      "   -------------------- ------------------- 2/4 [alembic]\n",
      "   -------------------- ------------------- 2/4 [alembic]\n",
      "   -------------------- ------------------- 2/4 [alembic]\n",
      "   -------------------- ------------------- 2/4 [alembic]\n",
      "   -------------------- ------------------- 2/4 [alembic]\n",
      "   ------------------------------ --------- 3/4 [optuna]\n",
      "   ------------------------------ --------- 3/4 [optuna]\n",
      "   ------------------------------ --------- 3/4 [optuna]\n",
      "   ------------------------------ --------- 3/4 [optuna]\n",
      "   ------------------------------ --------- 3/4 [optuna]\n",
      "   ------------------------------ --------- 3/4 [optuna]\n",
      "   ------------------------------ --------- 3/4 [optuna]\n",
      "   ------------------------------ --------- 3/4 [optuna]\n",
      "   ------------------------------ --------- 3/4 [optuna]\n",
      "   ------------------------------ --------- 3/4 [optuna]\n",
      "   ------------------------------ --------- 3/4 [optuna]\n",
      "   ------------------------------ --------- 3/4 [optuna]\n",
      "   ------------------------------ --------- 3/4 [optuna]\n",
      "   ------------------------------ --------- 3/4 [optuna]\n",
      "   ------------------------------ --------- 3/4 [optuna]\n",
      "   ------------------------------ --------- 3/4 [optuna]\n",
      "   ------------------------------ --------- 3/4 [optuna]\n",
      "   ------------------------------ --------- 3/4 [optuna]\n",
      "   ------------------------------ --------- 3/4 [optuna]\n",
      "   ------------------------------ --------- 3/4 [optuna]\n",
      "   ------------------------------ --------- 3/4 [optuna]\n",
      "   ------------------------------ --------- 3/4 [optuna]\n",
      "   ------------------------------ --------- 3/4 [optuna]\n",
      "   ------------------------------ --------- 3/4 [optuna]\n",
      "   ------------------------------ --------- 3/4 [optuna]\n",
      "   ------------------------------ --------- 3/4 [optuna]\n",
      "   ------------------------------ --------- 3/4 [optuna]\n",
      "   ------------------------------ --------- 3/4 [optuna]\n",
      "   ------------------------------ --------- 3/4 [optuna]\n",
      "   ------------------------------ --------- 3/4 [optuna]\n",
      "   ------------------------------ --------- 3/4 [optuna]\n",
      "   ------------------------------ --------- 3/4 [optuna]\n",
      "   ------------------------------ --------- 3/4 [optuna]\n",
      "   ------------------------------ --------- 3/4 [optuna]\n",
      "   ------------------------------ --------- 3/4 [optuna]\n",
      "   ------------------------------ --------- 3/4 [optuna]\n",
      "   ------------------------------ --------- 3/4 [optuna]\n",
      "   ------------------------------ --------- 3/4 [optuna]\n",
      "   ------------------------------ --------- 3/4 [optuna]\n",
      "   ------------------------------ --------- 3/4 [optuna]\n",
      "   ------------------------------ --------- 3/4 [optuna]\n",
      "   ------------------------------ --------- 3/4 [optuna]\n",
      "   ------------------------------ --------- 3/4 [optuna]\n",
      "   ------------------------------ --------- 3/4 [optuna]\n",
      "   ------------------------------ --------- 3/4 [optuna]\n",
      "   ---------------------------------------- 4/4 [optuna]\n",
      "\n",
      "Successfully installed Mako-1.3.10 alembic-1.16.4 colorlog-6.9.0 optuna-4.4.0\n"
     ]
    },
    {
     "name": "stderr",
     "output_type": "stream",
     "text": [
      "\n",
      "[notice] A new release of pip is available: 25.1.1 -> 25.2\n",
      "[notice] To update, run: python.exe -m pip install --upgrade pip\n"
     ]
    }
   ],
   "source": [
    "!pip install optuna"
   ]
  },
  {
   "cell_type": "code",
   "execution_count": 2,
   "id": "e9b27aca-c653-40d5-b0ac-88ebe4c865ef",
   "metadata": {},
   "outputs": [],
   "source": [
    "import numpy as np"
   ]
  },
  {
   "cell_type": "code",
   "execution_count": 3,
   "id": "1e38ba24-34f4-4f4a-9fe8-c7007a864ec8",
   "metadata": {},
   "outputs": [
    {
     "name": "stdout",
     "output_type": "stream",
     "text": [
      "train shape: (750000, 9)\n",
      "test  shape: (250000, 8)\n",
      "\n",
      "DTypes:\n",
      " id              int64\n",
      "Sex            object\n",
      "Age             int64\n",
      "Height        float64\n",
      "Weight        float64\n",
      "Duration      float64\n",
      "Heart_Rate    float64\n",
      "Body_Temp     float64\n",
      "Calories      float64\n",
      "dtype: object\n",
      "\n",
      "NA - train:\n",
      " Series([], dtype: int64)\n",
      "\n",
      "NA - test:\n",
      " Series([], dtype: int64)\n"
     ]
    },
    {
     "data": {
      "text/html": [
       "<div>\n",
       "<style scoped>\n",
       "    .dataframe tbody tr th:only-of-type {\n",
       "        vertical-align: middle;\n",
       "    }\n",
       "\n",
       "    .dataframe tbody tr th {\n",
       "        vertical-align: top;\n",
       "    }\n",
       "\n",
       "    .dataframe thead th {\n",
       "        text-align: right;\n",
       "    }\n",
       "</style>\n",
       "<table border=\"1\" class=\"dataframe\">\n",
       "  <thead>\n",
       "    <tr style=\"text-align: right;\">\n",
       "      <th></th>\n",
       "      <th>count</th>\n",
       "      <th>mean</th>\n",
       "      <th>std</th>\n",
       "      <th>min</th>\n",
       "      <th>25%</th>\n",
       "      <th>50%</th>\n",
       "      <th>75%</th>\n",
       "      <th>max</th>\n",
       "    </tr>\n",
       "  </thead>\n",
       "  <tbody>\n",
       "    <tr>\n",
       "      <th>id</th>\n",
       "      <td>750000.0</td>\n",
       "      <td>374999.500000</td>\n",
       "      <td>216506.495284</td>\n",
       "      <td>0.0</td>\n",
       "      <td>187499.75</td>\n",
       "      <td>374999.5</td>\n",
       "      <td>562499.25</td>\n",
       "      <td>749999.0</td>\n",
       "    </tr>\n",
       "    <tr>\n",
       "      <th>Age</th>\n",
       "      <td>750000.0</td>\n",
       "      <td>41.420404</td>\n",
       "      <td>15.175049</td>\n",
       "      <td>20.0</td>\n",
       "      <td>28.00</td>\n",
       "      <td>40.0</td>\n",
       "      <td>52.00</td>\n",
       "      <td>79.0</td>\n",
       "    </tr>\n",
       "    <tr>\n",
       "      <th>Height</th>\n",
       "      <td>750000.0</td>\n",
       "      <td>174.697685</td>\n",
       "      <td>12.824496</td>\n",
       "      <td>126.0</td>\n",
       "      <td>164.00</td>\n",
       "      <td>174.0</td>\n",
       "      <td>185.00</td>\n",
       "      <td>222.0</td>\n",
       "    </tr>\n",
       "    <tr>\n",
       "      <th>Weight</th>\n",
       "      <td>750000.0</td>\n",
       "      <td>75.145668</td>\n",
       "      <td>13.982704</td>\n",
       "      <td>36.0</td>\n",
       "      <td>63.00</td>\n",
       "      <td>74.0</td>\n",
       "      <td>87.00</td>\n",
       "      <td>132.0</td>\n",
       "    </tr>\n",
       "    <tr>\n",
       "      <th>Duration</th>\n",
       "      <td>750000.0</td>\n",
       "      <td>15.421015</td>\n",
       "      <td>8.354095</td>\n",
       "      <td>1.0</td>\n",
       "      <td>8.00</td>\n",
       "      <td>15.0</td>\n",
       "      <td>23.00</td>\n",
       "      <td>30.0</td>\n",
       "    </tr>\n",
       "    <tr>\n",
       "      <th>Heart_Rate</th>\n",
       "      <td>750000.0</td>\n",
       "      <td>95.483995</td>\n",
       "      <td>9.449845</td>\n",
       "      <td>67.0</td>\n",
       "      <td>88.00</td>\n",
       "      <td>95.0</td>\n",
       "      <td>103.00</td>\n",
       "      <td>128.0</td>\n",
       "    </tr>\n",
       "    <tr>\n",
       "      <th>Body_Temp</th>\n",
       "      <td>750000.0</td>\n",
       "      <td>40.036253</td>\n",
       "      <td>0.779875</td>\n",
       "      <td>37.1</td>\n",
       "      <td>39.60</td>\n",
       "      <td>40.3</td>\n",
       "      <td>40.70</td>\n",
       "      <td>41.5</td>\n",
       "    </tr>\n",
       "    <tr>\n",
       "      <th>Calories</th>\n",
       "      <td>750000.0</td>\n",
       "      <td>88.282781</td>\n",
       "      <td>62.395349</td>\n",
       "      <td>1.0</td>\n",
       "      <td>34.00</td>\n",
       "      <td>77.0</td>\n",
       "      <td>136.00</td>\n",
       "      <td>314.0</td>\n",
       "    </tr>\n",
       "  </tbody>\n",
       "</table>\n",
       "</div>"
      ],
      "text/plain": [
       "               count           mean            std    min        25%  \\\n",
       "id          750000.0  374999.500000  216506.495284    0.0  187499.75   \n",
       "Age         750000.0      41.420404      15.175049   20.0      28.00   \n",
       "Height      750000.0     174.697685      12.824496  126.0     164.00   \n",
       "Weight      750000.0      75.145668      13.982704   36.0      63.00   \n",
       "Duration    750000.0      15.421015       8.354095    1.0       8.00   \n",
       "Heart_Rate  750000.0      95.483995       9.449845   67.0      88.00   \n",
       "Body_Temp   750000.0      40.036253       0.779875   37.1      39.60   \n",
       "Calories    750000.0      88.282781      62.395349    1.0      34.00   \n",
       "\n",
       "                 50%        75%       max  \n",
       "id          374999.5  562499.25  749999.0  \n",
       "Age             40.0      52.00      79.0  \n",
       "Height         174.0     185.00     222.0  \n",
       "Weight          74.0      87.00     132.0  \n",
       "Duration        15.0      23.00      30.0  \n",
       "Heart_Rate      95.0     103.00     128.0  \n",
       "Body_Temp       40.3      40.70      41.5  \n",
       "Calories        77.0     136.00     314.0  "
      ]
     },
     "metadata": {},
     "output_type": "display_data"
    },
    {
     "name": "stdout",
     "output_type": "stream",
     "text": [
      "Sex: 2 sınıf -> ['female', 'male']\n"
     ]
    }
   ],
   "source": [
    "import pandas as pd\n",
    "from pathlib import Path\n",
    "\n",
    "DATA_DIR = Path(\"data\")\n",
    "\n",
    "train = pd.read_csv(DATA_DIR / \"train.csv\")  # Kaggle'dan indirip data/ altına koy\n",
    "test  = pd.read_csv(DATA_DIR / \"test.csv\")\n",
    "\n",
    "print(\"train shape:\", train.shape)\n",
    "print(\"test  shape:\", test.shape)\n",
    "\n",
    "print(\"\\nDTypes:\\n\", train.dtypes)\n",
    "\n",
    "# Hedef var mı ve adı doğru mu?\n",
    "assert \"Calories\" in train.columns, \"Hedef sütun 'Calories' bulunamadı!\"\n",
    "\n",
    "# Eksik değer kontrolü\n",
    "na_train = train.isna().sum().sort_values(ascending=False)\n",
    "na_test  = test.isna().sum().sort_values(ascending=False)\n",
    "print(\"\\nNA - train:\\n\", na_train[na_train>0])\n",
    "print(\"\\nNA - test:\\n\", na_test[na_test>0])\n",
    "\n",
    "# Sayısal sütunların hızlı istatistiği\n",
    "num_cols = train.select_dtypes(include=[\"number\"]).columns.tolist()\n",
    "display(train[num_cols].describe().T)\n",
    "\n",
    "# Kategorik sütunların eşsiz değer sayısı\n",
    "cat_cols = train.select_dtypes(exclude=[\"number\"]).columns.tolist()\n",
    "for c in cat_cols:\n",
    "    print(f\"{c}: {train[c].nunique()} sınıf -> {sorted(train[c].dropna().unique())[:10]}\")\n"
   ]
  },
  {
   "cell_type": "code",
   "execution_count": 4,
   "id": "9dd4ef5c-903b-49c5-ab90-7f6bb9c7f646",
   "metadata": {},
   "outputs": [
    {
     "data": {
      "text/html": [
       "<div>\n",
       "<style scoped>\n",
       "    .dataframe tbody tr th:only-of-type {\n",
       "        vertical-align: middle;\n",
       "    }\n",
       "\n",
       "    .dataframe tbody tr th {\n",
       "        vertical-align: top;\n",
       "    }\n",
       "\n",
       "    .dataframe thead th {\n",
       "        text-align: right;\n",
       "    }\n",
       "</style>\n",
       "<table border=\"1\" class=\"dataframe\">\n",
       "  <thead>\n",
       "    <tr style=\"text-align: right;\">\n",
       "      <th></th>\n",
       "      <th>id</th>\n",
       "      <th>Sex</th>\n",
       "      <th>Age</th>\n",
       "      <th>Height</th>\n",
       "      <th>Weight</th>\n",
       "      <th>Duration</th>\n",
       "      <th>Heart_Rate</th>\n",
       "      <th>Body_Temp</th>\n",
       "      <th>Calories</th>\n",
       "    </tr>\n",
       "  </thead>\n",
       "  <tbody>\n",
       "    <tr>\n",
       "      <th>0</th>\n",
       "      <td>0</td>\n",
       "      <td>male</td>\n",
       "      <td>36</td>\n",
       "      <td>189.0</td>\n",
       "      <td>82.0</td>\n",
       "      <td>26.0</td>\n",
       "      <td>101.0</td>\n",
       "      <td>41.0</td>\n",
       "      <td>150.0</td>\n",
       "    </tr>\n",
       "    <tr>\n",
       "      <th>1</th>\n",
       "      <td>1</td>\n",
       "      <td>female</td>\n",
       "      <td>64</td>\n",
       "      <td>163.0</td>\n",
       "      <td>60.0</td>\n",
       "      <td>8.0</td>\n",
       "      <td>85.0</td>\n",
       "      <td>39.7</td>\n",
       "      <td>34.0</td>\n",
       "    </tr>\n",
       "    <tr>\n",
       "      <th>2</th>\n",
       "      <td>2</td>\n",
       "      <td>female</td>\n",
       "      <td>51</td>\n",
       "      <td>161.0</td>\n",
       "      <td>64.0</td>\n",
       "      <td>7.0</td>\n",
       "      <td>84.0</td>\n",
       "      <td>39.8</td>\n",
       "      <td>29.0</td>\n",
       "    </tr>\n",
       "    <tr>\n",
       "      <th>3</th>\n",
       "      <td>3</td>\n",
       "      <td>male</td>\n",
       "      <td>20</td>\n",
       "      <td>192.0</td>\n",
       "      <td>90.0</td>\n",
       "      <td>25.0</td>\n",
       "      <td>105.0</td>\n",
       "      <td>40.7</td>\n",
       "      <td>140.0</td>\n",
       "    </tr>\n",
       "    <tr>\n",
       "      <th>4</th>\n",
       "      <td>4</td>\n",
       "      <td>female</td>\n",
       "      <td>38</td>\n",
       "      <td>166.0</td>\n",
       "      <td>61.0</td>\n",
       "      <td>25.0</td>\n",
       "      <td>102.0</td>\n",
       "      <td>40.6</td>\n",
       "      <td>146.0</td>\n",
       "    </tr>\n",
       "  </tbody>\n",
       "</table>\n",
       "</div>"
      ],
      "text/plain": [
       "   id     Sex  Age  Height  Weight  Duration  Heart_Rate  Body_Temp  Calories\n",
       "0   0    male   36   189.0    82.0      26.0       101.0       41.0     150.0\n",
       "1   1  female   64   163.0    60.0       8.0        85.0       39.7      34.0\n",
       "2   2  female   51   161.0    64.0       7.0        84.0       39.8      29.0\n",
       "3   3    male   20   192.0    90.0      25.0       105.0       40.7     140.0\n",
       "4   4  female   38   166.0    61.0      25.0       102.0       40.6     146.0"
      ]
     },
     "execution_count": 4,
     "metadata": {},
     "output_type": "execute_result"
    }
   ],
   "source": [
    "train.head(5)"
   ]
  },
  {
   "cell_type": "code",
   "execution_count": 5,
   "id": "2a3d4f4a-31c4-44b2-a18c-15abc0df029d",
   "metadata": {},
   "outputs": [
    {
     "data": {
      "image/png": "[encoded data removed]",
      "text/plain": [
       "<Figure size 800x400 with 1 Axes>"
      ]
     },
     "metadata": {},
     "output_type": "display_data"
    },
    {
     "data": {
      "image/png": "[encoded data removed]",
      "text/plain": [
       "<Figure size 800x400 with 1 Axes>"
      ]
     },
     "metadata": {},
     "output_type": "display_data"
    }
   ],
   "source": [
    "import matplotlib.pyplot as plt\n",
    "import seaborn as sns\n",
    "\n",
    "plt.figure(figsize=(8,4))\n",
    "sns.histplot(train[\"Calories\"], bins=50, kde=True)\n",
    "plt.title(\"Calories Dağılımı\")\n",
    "plt.xlabel(\"Calories\")\n",
    "plt.ylabel(\"Frekans\")\n",
    "plt.show()\n",
    "\n",
    "# Log1p dönüşüm sonrası\n",
    "plt.figure(figsize=(8,4))\n",
    "sns.histplot(np.log1p(train[\"Calories\"]), bins=50, kde=True, color=\"orange\")\n",
    "plt.title(\"log1p(Calories) Dağılımı\")\n",
    "plt.xlabel(\"log1p(Calories)\")\n",
    "plt.ylabel(\"Frekans\")\n",
    "plt.show()\n"
   ]
  },
  {
   "cell_type": "code",
   "execution_count": 6,
   "id": "db664a43-fdef-41d5-a5c5-206b325073e3",
   "metadata": {},
   "outputs": [
    {
     "data": {
      "image/png": "[encoded data removed]",
      "text/plain": [
       "<Figure size 1000x800 with 2 Axes>"
      ]
     },
     "metadata": {},
     "output_type": "display_data"
    }
   ],
   "source": [
    "import numpy as np\n",
    "\n",
    "# Hedefin log versiyonunu ekleyelim\n",
    "train[\"log_Calories\"] = np.log1p(train[\"Calories\"])\n",
    "\n",
    "# Sadece sayısal sütunlar\n",
    "num_cols = ['Age', 'Height', 'Weight', 'Duration', 'Heart_Rate', 'Body_Temp', 'Calories', 'log_Calories']\n",
    "\n",
    "corr = train[num_cols].corr()\n",
    "\n",
    "plt.figure(figsize=(10,8))\n",
    "sns.heatmap(corr, annot=True, fmt=\".2f\", cmap=\"coolwarm\", center=0)\n",
    "plt.title(\"Sayısal Değişkenler Korelasyon Matrisi\")\n",
    "plt.show()\n"
   ]
  },
  {
   "cell_type": "code",
   "execution_count": 7,
   "id": "2e8a629e-f04e-42ee-bbb7-06026c461932",
   "metadata": {},
   "outputs": [
    {
     "name": "stdout",
     "output_type": "stream",
     "text": [
      "CV MSLE (log uzayında MSE): 0.032368847107999435\n",
      "CV RMSLE: 0.17991344337764045\n"
     ]
    }
   ],
   "source": [
    "from sklearn.linear_model import Ridge\n",
    "from sklearn.model_selection import KFold, cross_val_score\n",
    "from sklearn.preprocessing import OneHotEncoder\n",
    "from sklearn.compose import ColumnTransformer\n",
    "from sklearn.pipeline import Pipeline\n",
    "import numpy as np\n",
    "\n",
    "# Hedef dönüşümü\n",
    "y = np.log1p(train[\"Calories\"])\n",
    "\n",
    "# Özellikler\n",
    "X = train.drop(columns=[\"Calories\", \"log_Calories\", \"id\"])\n",
    "\n",
    "# Sayısal & kategorik sütunlar\n",
    "num_cols = X.select_dtypes(include=[\"number\"]).columns.tolist()\n",
    "cat_cols = X.select_dtypes(exclude=[\"number\"]).columns.tolist()\n",
    "\n",
    "# Pipeline\n",
    "preprocessor = ColumnTransformer(\n",
    "    transformers=[\n",
    "        (\"num\", \"passthrough\", num_cols),\n",
    "        (\"cat\", OneHotEncoder(drop=\"first\"), cat_cols)\n",
    "    ]\n",
    ")\n",
    "\n",
    "model = Pipeline(steps=[\n",
    "    (\"preprocess\", preprocessor),\n",
    "    (\"ridge\", Ridge(alpha=1.0))\n",
    "])\n",
    "\n",
    "# CV\n",
    "cv = KFold(n_splits=5, shuffle=True, random_state=42)\n",
    "scores = cross_val_score(model, X, y, cv=cv, scoring=\"neg_mean_squared_error\")\n",
    "\n",
    "print(\"CV MSLE (log uzayında MSE):\", -scores.mean())\n",
    "print(\"CV RMSLE:\", np.sqrt(-scores.mean()))\n"
   ]
  },
  {
   "cell_type": "code",
   "execution_count": 13,
   "id": "6a0b8e17-2658-4bc6-9b25-435f3fc99adf",
   "metadata": {},
   "outputs": [
    {
     "name": "stdout",
     "output_type": "stream",
     "text": [
      "Scaled CV MSLE: 0.03236884709582001  | RMSLE: 0.17991344334379245\n",
      "FE CV MSLE: 0.02224892198854201  | RMSLE: 0.14916072535537633\n"
     ]
    }
   ],
   "source": [
    "from sklearn.preprocessing import StandardScaler\n",
    "\n",
    "preprocessor_scaled = ColumnTransformer([\n",
    "    (\"num\", StandardScaler(), num_cols),\n",
    "    (\"cat\", OneHotEncoder(drop=\"first\"), cat_cols)\n",
    "])\n",
    "\n",
    "model_scaled = Pipeline([\n",
    "    (\"preprocess\", preprocessor_scaled),\n",
    "    (\"ridge\", Ridge(alpha=1.0))\n",
    "])\n",
    "scores = cross_val_score(model_scaled, X, y, cv=cv, scoring=\"neg_mean_squared_error\")\n",
    "print(\"Scaled CV MSLE:\", -scores.mean(), \" | RMSLE:\", np.sqrt(-scores.mean()))\n",
    "\n",
    "X_fe = X.copy()\n",
    "X_fe[\"BMI\"] = X[\"Weight\"] / (X[\"Height\"]/100.0)**2\n",
    "X_fe[\"Intensity\"] = X[\"Duration\"] * X[\"Heart_Rate\"]\n",
    "\n",
    "num_cols_fe = X_fe.select_dtypes(include=[\"number\"]).columns.tolist()\n",
    "cat_cols_fe = X_fe.select_dtypes(exclude=[\"number\"]).columns.tolist()\n",
    "\n",
    "pre_fe = ColumnTransformer([\n",
    "    (\"num\", StandardScaler(), num_cols_fe),\n",
    "    (\"cat\", OneHotEncoder(drop=\"first\"), cat_cols_fe)\n",
    "])\n",
    "model_fe = Pipeline([(\"preprocess\", pre_fe), (\"ridge\", Ridge(alpha=1.0))])\n",
    "\n",
    "scores = cross_val_score(model_fe, X_fe, y, cv=cv, scoring=\"neg_mean_squared_error\")\n",
    "print(\"FE CV MSLE:\", -scores.mean(), \" | RMSLE:\", np.sqrt(-scores.mean()))\n"
   ]
  },
  {
   "cell_type": "code",
   "execution_count": 15,
   "id": "a108010c-fe98-4874-ade1-a79d3a066617",
   "metadata": {},
   "outputs": [
    {
     "name": "stdout",
     "output_type": "stream",
     "text": [
      "XGB (OHE) CV MSLE: 0.003646572617732093 | RMSLE: 0.06038685798857309\n"
     ]
    }
   ],
   "source": [
    "from xgboost import XGBRegressor\n",
    "from sklearn.compose import ColumnTransformer\n",
    "from sklearn.preprocessing import OneHotEncoder\n",
    "from sklearn.model_selection import KFold, cross_val_score\n",
    "from sklearn.pipeline import Pipeline\n",
    "import numpy as np\n",
    "\n",
    "# 1) Özellik seti (FE dâhil)\n",
    "X_fe = X.copy()\n",
    "X_fe[\"BMI\"] = X[\"Weight\"] / (X[\"Height\"]/100.0)**2\n",
    "X_fe[\"Intensity\"] = X[\"Duration\"] * X[\"Heart_Rate\"]\n",
    "\n",
    "y = np.log1p(train[\"Calories\"])  # log1p hedef (MSLE ile uyum)\n",
    "\n",
    "num_cols = X_fe.select_dtypes(include=[\"number\"]).columns.tolist()\n",
    "cat_cols = X_fe.select_dtypes(exclude=[\"number\"]).columns.tolist()  # ['Sex']\n",
    "\n",
    "pre = ColumnTransformer([\n",
    "    (\"num\", \"passthrough\", num_cols),\n",
    "    (\"cat\", OneHotEncoder(drop=\"first\", handle_unknown=\"ignore\"), cat_cols)\n",
    "])\n",
    "\n",
    "xgb = XGBRegressor(\n",
    "    n_estimators=500,\n",
    "    learning_rate=0.1,\n",
    "    max_depth=6,\n",
    "    subsample=0.8,\n",
    "    colsample_bytree=0.8,\n",
    "    random_state=42,\n",
    "    objective=\"reg:squarederror\"  # y'yi log1p yaptığımız için MSE=MSLE mantığı\n",
    ")\n",
    "\n",
    "model = Pipeline([\n",
    "    (\"pre\", pre),\n",
    "    (\"xgb\", xgb)\n",
    "])\n",
    "\n",
    "cv = KFold(n_splits=5, shuffle=True, random_state=42)\n",
    "scores = cross_val_score(model, X_fe, y, cv=cv, scoring=\"neg_mean_squared_error\")\n",
    "print(\"XGB (OHE) CV MSLE:\", -scores.mean(), \"| RMSLE:\", np.sqrt(-scores.mean()))\n"
   ]
  },
  {
   "cell_type": "code",
   "execution_count": 18,
   "id": "fff6d2fb-13af-4f22-90ab-5ba6acb39054",
   "metadata": {},
   "outputs": [
    {
     "name": "stderr",
     "output_type": "stream",
     "text": [
      "C:\\Users\\ahmet\\AppData\\Local\\Programs\\Python\\Python313\\Lib\\site-packages\\tqdm\\auto.py:21: TqdmWarning: IProgress not found. Please update jupyter and ipywidgets. See https://ipywidgets.readthedocs.io/en/stable/user_install.html\n",
      "  from .autonotebook import tqdm as notebook_tqdm\n",
      "[I 2025-08-14 18:28:56,079] A new study created in memory with name: no-name-e67e4510-94a7-4b2c-a3cc-fb8d106af884\n",
      "Best trial: 0. Best value: 0.00394684:   5%|██▏                                        | 1/20 [02:36<49:38, 156.76s/it]"
     ]
    },
    {
     "name": "stdout",
     "output_type": "stream",
     "text": [
      "[I 2025-08-14 18:31:32,841] Trial 0 finished with value: 0.003946839456308322 and parameters: {'n_estimators': 639, 'learning_rate': 0.013973404928436654, 'max_depth': 7, 'min_child_weight': 7.096559906702608, 'subsample': 0.9114798245090314, 'colsample_bytree': 0.6496803899127742, 'reg_lambda': 0.024080245078418976, 'reg_alpha': 0.23906218913360724, 'gamma': 2.062340357007239}. Best is trial 0 with value: 0.003946839456308322.\n"
     ]
    },
    {
     "name": "stderr",
     "output_type": "stream",
     "text": [
      "Best trial: 0. Best value: 0.00394684:  10%|████▎                                      | 2/20 [03:47<31:50, 106.16s/it]"
     ]
    },
    {
     "name": "stdout",
     "output_type": "stream",
     "text": [
      "[I 2025-08-14 18:32:43,586] Trial 1 finished with value: 0.004023474604469815 and parameters: {'n_estimators': 533, 'learning_rate': 0.235378824623979, 'max_depth': 10, 'min_child_weight': 1.8293676747398764, 'subsample': 0.8073093973410206, 'colsample_bytree': 0.9198891015583133, 'reg_lambda': 1.8526809424589183, 'reg_alpha': 0.027994512791745866, 'gamma': 2.383547519627522}. Best is trial 0 with value: 0.003946839456308322.\n"
     ]
    },
    {
     "name": "stderr",
     "output_type": "stream",
     "text": [
      "Best trial: 0. Best value: 0.00394684:  15%|██████▍                                    | 3/20 [05:58<33:18, 117.56s/it]"
     ]
    },
    {
     "name": "stdout",
     "output_type": "stream",
     "text": [
      "[I 2025-08-14 18:34:54,718] Trial 2 finished with value: 0.00441985806597998 and parameters: {'n_estimators': 1085, 'learning_rate': 0.11875052721206633, 'max_depth': 4, 'min_child_weight': 3.801708486259848, 'subsample': 0.7637261733542555, 'colsample_bytree': 0.8417232042542564, 'reg_lambda': 0.28661998876502887, 'reg_alpha': 0.01077156241814639, 'gamma': 3.250103919159426}. Best is trial 0 with value: 0.003946839456308322.\n"
     ]
    },
    {
     "name": "stderr",
     "output_type": "stream",
     "text": [
      "Best trial: 3. Best value: 0.00382901:  20%|████████▌                                  | 4/20 [07:34<29:05, 109.12s/it]"
     ]
    },
    {
     "name": "stdout",
     "output_type": "stream",
     "text": [
      "[I 2025-08-14 18:36:30,894] Trial 3 finished with value: 0.0038290062703912275 and parameters: {'n_estimators': 668, 'learning_rate': 0.04711624300904341, 'max_depth': 6, 'min_child_weight': 5.7550519899029515, 'subsample': 0.8923806551689573, 'colsample_bytree': 0.7542217049502085, 'reg_lambda': 0.04570173091824532, 'reg_alpha': 0.0016894575385836999, 'gamma': 0.8493614902676833}. Best is trial 3 with value: 0.0038290062703912275.\n"
     ]
    },
    {
     "name": "stderr",
     "output_type": "stream",
     "text": [
      "Best trial: 3. Best value: 0.00382901:  25%|██████████▊                                | 5/20 [09:06<25:43, 102.88s/it]"
     ]
    },
    {
     "name": "stdout",
     "output_type": "stream",
     "text": [
      "[I 2025-08-14 18:38:02,717] Trial 4 finished with value: 0.003906415205235785 and parameters: {'n_estimators': 783, 'learning_rate': 0.14487738396325026, 'max_depth': 10, 'min_child_weight': 8.829561645221267, 'subsample': 0.9732073246021815, 'colsample_bytree': 0.8341436780782328, 'reg_lambda': 0.12686601077000956, 'reg_alpha': 0.4404592057717154, 'gamma': 2.6581769655710614}. Best is trial 3 with value: 0.0038290062703912275.\n"
     ]
    },
    {
     "name": "stderr",
     "output_type": "stream",
     "text": [
      "Best trial: 3. Best value: 0.00382901:  30%|█████████████▏                              | 6/20 [10:40<23:18, 99.90s/it]"
     ]
    },
    {
     "name": "stdout",
     "output_type": "stream",
     "text": [
      "[I 2025-08-14 18:39:36,815] Trial 5 finished with value: 0.003985499641917132 and parameters: {'n_estimators': 643, 'learning_rate': 0.037117339494059196, 'max_depth': 7, 'min_child_weight': 9.653016040692208, 'subsample': 0.9980572075659931, 'colsample_bytree': 0.7574989263001297, 'reg_lambda': 1.3294329095675188, 'reg_alpha': 0.01886619326877194, 'gamma': 4.4298420224940065}. Best is trial 3 with value: 0.0038290062703912275.\n"
     ]
    },
    {
     "name": "stderr",
     "output_type": "stream",
     "text": [
      "Best trial: 3. Best value: 0.00382901:  35%|███████████████                            | 7/20 [12:40<23:01, 106.30s/it]"
     ]
    },
    {
     "name": "stdout",
     "output_type": "stream",
     "text": [
      "[I 2025-08-14 18:41:36,289] Trial 6 finished with value: 0.004826352656404876 and parameters: {'n_estimators': 1077, 'learning_rate': 0.1678136378923708, 'max_depth': 4, 'min_child_weight': 1.8383151779457945, 'subsample': 0.8821104827944476, 'colsample_bytree': 0.6632352486685992, 'reg_lambda': 6.185387415850634, 'reg_alpha': 0.057797930838825354, 'gamma': 3.362587083825651}. Best is trial 3 with value: 0.0038290062703912275.\n"
     ]
    },
    {
     "name": "stderr",
     "output_type": "stream",
     "text": [
      "Best trial: 3. Best value: 0.00382901:  40%|█████████████████▏                         | 8/20 [14:32<21:38, 108.18s/it]"
     ]
    },
    {
     "name": "stdout",
     "output_type": "stream",
     "text": [
      "[I 2025-08-14 18:43:28,497] Trial 7 finished with value: 0.003968952065371052 and parameters: {'n_estimators': 977, 'learning_rate': 0.13110228641923355, 'max_depth': 7, 'min_child_weight': 2.476743209757542, 'subsample': 0.9050902434518324, 'colsample_bytree': 0.8874537874883015, 'reg_lambda': 0.17560205328371964, 'reg_alpha': 0.033698571531337596, 'gamma': 3.0160396686586397}. Best is trial 3 with value: 0.0038290062703912275.\n"
     ]
    },
    {
     "name": "stderr",
     "output_type": "stream",
     "text": [
      "Best trial: 3. Best value: 0.00382901:  45%|███████████████████▊                        | 9/20 [15:41<17:35, 95.98s/it]"
     ]
    },
    {
     "name": "stdout",
     "output_type": "stream",
     "text": [
      "[I 2025-08-14 18:44:37,646] Trial 8 finished with value: 0.004264605721609525 and parameters: {'n_estimators': 525, 'learning_rate': 0.07968194448369885, 'max_depth': 5, 'min_child_weight': 1.760580056637963, 'subsample': 0.8640762532344632, 'colsample_bytree': 0.7396078126957039, 'reg_lambda': 0.0025155885125927933, 'reg_alpha': 0.03945536529449527, 'gamma': 3.3844997212095747}. Best is trial 3 with value: 0.0038290062703912275.\n"
     ]
    },
    {
     "name": "stderr",
     "output_type": "stream",
     "text": [
      "Best trial: 3. Best value: 0.00382901:  50%|█████████████████████▌                     | 10/20 [17:23<16:16, 97.67s/it]"
     ]
    },
    {
     "name": "stdout",
     "output_type": "stream",
     "text": [
      "[I 2025-08-14 18:46:19,104] Trial 9 finished with value: 0.003928405501957531 and parameters: {'n_estimators': 567, 'learning_rate': 0.026974286161043196, 'max_depth': 10, 'min_child_weight': 9.1947838046442, 'subsample': 0.6486838403231757, 'colsample_bytree': 0.8613258239435946, 'reg_lambda': 0.16309082563326568, 'reg_alpha': 0.7242457871704095, 'gamma': 2.916869817759657}. Best is trial 3 with value: 0.0038290062703912275.\n"
     ]
    },
    {
     "name": "stderr",
     "output_type": "stream",
     "text": [
      "Best trial: 10. Best value: 0.00374285:  55%|██████████████████████▌                  | 11/20 [20:38<19:07, 127.45s/it]"
     ]
    },
    {
     "name": "stdout",
     "output_type": "stream",
     "text": [
      "[I 2025-08-14 18:49:34,090] Trial 10 finished with value: 0.0037428506398711203 and parameters: {'n_estimators': 849, 'learning_rate': 0.010887205100897189, 'max_depth': 6, 'min_child_weight': 5.55749124173857, 'subsample': 0.7016558912574165, 'colsample_bytree': 0.9912460996626996, 'reg_lambda': 0.011178066307243677, 'reg_alpha': 0.0010943261230693178, 'gamma': 0.31598763283048914}. Best is trial 10 with value: 0.0037428506398711203.\n"
     ]
    },
    {
     "name": "stderr",
     "output_type": "stream",
     "text": [
      "Best trial: 10. Best value: 0.00374285:  60%|████████████████████████▌                | 12/20 [22:13<15:42, 117.87s/it]"
     ]
    },
    {
     "name": "stdout",
     "output_type": "stream",
     "text": [
      "[I 2025-08-14 18:51:10,036] Trial 11 finished with value: 0.005474205409224908 and parameters: {'n_estimators': 341, 'learning_rate': 0.01022289984062087, 'max_depth': 6, 'min_child_weight': 5.854205384967889, 'subsample': 0.6754203431682025, 'colsample_bytree': 0.9899858492204381, 'reg_lambda': 0.009893293919388394, 'reg_alpha': 0.0010282755428485603, 'gamma': 0.08465069642938494}. Best is trial 10 with value: 0.0037428506398711203.\n"
     ]
    },
    {
     "name": "stderr",
     "output_type": "stream",
     "text": [
      "Best trial: 12. Best value: 0.00365365:  65%|██████████████████████████▋              | 13/20 [24:52<15:11, 130.18s/it]"
     ]
    },
    {
     "name": "stdout",
     "output_type": "stream",
     "text": [
      "[I 2025-08-14 18:53:48,543] Trial 12 finished with value: 0.003653652593193979 and parameters: {'n_estimators': 859, 'learning_rate': 0.02029607436498758, 'max_depth': 8, 'min_child_weight': 4.8538336172919685, 'subsample': 0.723382824544614, 'colsample_bytree': 0.9963914322824253, 'reg_lambda': 0.022028015312687485, 'reg_alpha': 0.0011727549033278633, 'gamma': 0.41867645997199876}. Best is trial 12 with value: 0.003653652593193979.\n"
     ]
    },
    {
     "name": "stderr",
     "output_type": "stream",
     "text": [
      "Best trial: 12. Best value: 0.00365365:  70%|████████████████████████████▋            | 14/20 [27:15<13:24, 134.03s/it]"
     ]
    },
    {
     "name": "stdout",
     "output_type": "stream",
     "text": [
      "[I 2025-08-14 18:56:11,473] Trial 13 finished with value: 0.003751845190744527 and parameters: {'n_estimators': 838, 'learning_rate': 0.02169035868808029, 'max_depth': 8, 'min_child_weight': 4.073023347978978, 'subsample': 0.710078793500239, 'colsample_bytree': 0.9986550166738528, 'reg_lambda': 0.0011316942638057448, 'reg_alpha': 0.003880629164260579, 'gamma': 1.2223930982471203}. Best is trial 12 with value: 0.003653652593193979.\n"
     ]
    },
    {
     "name": "stderr",
     "output_type": "stream",
     "text": [
      "Best trial: 14. Best value: 0.00358529:  75%|██████████████████████████████▊          | 15/20 [30:40<12:57, 155.42s/it]"
     ]
    },
    {
     "name": "stdout",
     "output_type": "stream",
     "text": [
      "[I 2025-08-14 18:59:36,481] Trial 14 finished with value: 0.0035852946009666984 and parameters: {'n_estimators': 925, 'learning_rate': 0.016542397218826395, 'max_depth': 8, 'min_child_weight': 7.2374246462151275, 'subsample': 0.7341082353493036, 'colsample_bytree': 0.941487063401131, 'reg_lambda': 0.008991254953513815, 'reg_alpha': 0.003552950464837585, 'gamma': 0.05703718469813068}. Best is trial 14 with value: 0.0035852946009666984.\n"
     ]
    },
    {
     "name": "stderr",
     "output_type": "stream",
     "text": [
      "Best trial: 14. Best value: 0.00358529:  80%|████████████████████████████████▊        | 16/20 [33:22<10:29, 157.30s/it]"
     ]
    },
    {
     "name": "stdout",
     "output_type": "stream",
     "text": [
      "[I 2025-08-14 19:02:18,144] Trial 15 finished with value: 0.0037529100718215204 and parameters: {'n_estimators': 932, 'learning_rate': 0.01882271149906141, 'max_depth': 8, 'min_child_weight': 7.3241192692269586, 'subsample': 0.6194677152978505, 'colsample_bytree': 0.9417042428787089, 'reg_lambda': 0.0049963793794097645, 'reg_alpha': 0.004922953377955917, 'gamma': 1.1806571050550128}. Best is trial 14 with value: 0.0035852946009666984.\n"
     ]
    },
    {
     "name": "stderr",
     "output_type": "stream",
     "text": [
      "Best trial: 14. Best value: 0.00358529:  85%|██████████████████████████████████▊      | 17/20 [36:03<07:55, 158.51s/it]"
     ]
    },
    {
     "name": "stdout",
     "output_type": "stream",
     "text": [
      "[I 2025-08-14 19:04:59,465] Trial 16 finished with value: 0.0037957903761888846 and parameters: {'n_estimators': 1156, 'learning_rate': 0.029587153466510665, 'max_depth': 9, 'min_child_weight': 7.7860476095272855, 'subsample': 0.7629628283887201, 'colsample_bytree': 0.9440557746739477, 'reg_lambda': 0.02333180459287822, 'reg_alpha': 0.0034641380869187763, 'gamma': 1.8499363934634026}. Best is trial 14 with value: 0.0035852946009666984.\n"
     ]
    },
    {
     "name": "stderr",
     "output_type": "stream",
     "text": [
      "Best trial: 14. Best value: 0.00358529:  90%|████████████████████████████████████▉    | 18/20 [38:07<04:56, 148.12s/it]"
     ]
    },
    {
     "name": "stdout",
     "output_type": "stream",
     "text": [
      "[I 2025-08-14 19:07:03,384] Trial 17 finished with value: 0.0036929152446961745 and parameters: {'n_estimators': 920, 'learning_rate': 0.05536475183080687, 'max_depth': 8, 'min_child_weight': 3.9801346683819796, 'subsample': 0.7384537678940679, 'colsample_bytree': 0.9108575681760297, 'reg_lambda': 0.05336449471717976, 'reg_alpha': 0.008370059959447401, 'gamma': 0.6215858617146952}. Best is trial 14 with value: 0.0035852946009666984.\n"
     ]
    },
    {
     "name": "stderr",
     "output_type": "stream",
     "text": [
      "Best trial: 14. Best value: 0.00358529:  95%|██████████████████████████████████████▉  | 19/20 [41:14<02:39, 159.76s/it]"
     ]
    },
    {
     "name": "stdout",
     "output_type": "stream",
     "text": [
      "[I 2025-08-14 19:10:10,268] Trial 18 finished with value: 0.0037582994077985424 and parameters: {'n_estimators': 1010, 'learning_rate': 0.016389404978885976, 'max_depth': 9, 'min_child_weight': 4.696535121139707, 'subsample': 0.8112194985250543, 'colsample_bytree': 0.958015043862188, 'reg_lambda': 0.003176926532361744, 'reg_alpha': 0.13664367178762132, 'gamma': 1.526423766982}. Best is trial 14 with value: 0.0035852946009666984.\n"
     ]
    },
    {
     "name": "stderr",
     "output_type": "stream",
     "text": [
      "Best trial: 14. Best value: 0.00358529: 100%|█████████████████████████████████████████| 20/20 [44:52<00:00, 134.62s/it]"
     ]
    },
    {
     "name": "stdout",
     "output_type": "stream",
     "text": [
      "[I 2025-08-14 19:13:48,386] Trial 19 finished with value: 0.003686870119348417 and parameters: {'n_estimators': 733, 'learning_rate': 0.06841260502131333, 'max_depth': 9, 'min_child_weight': 6.420483828731528, 'subsample': 0.6062440396358838, 'colsample_bytree': 0.8103068786684194, 'reg_lambda': 0.46885071008525453, 'reg_alpha': 0.001985824756270722, 'gamma': 0.0008871975044162372}. Best is trial 14 with value: 0.0035852946009666984.\n",
      "Best MSLE: 0.0035852946009666984\n",
      "Best params: {'n_estimators': 925, 'learning_rate': 0.016542397218826395, 'max_depth': 8, 'min_child_weight': 7.2374246462151275, 'subsample': 0.7341082353493036, 'colsample_bytree': 0.941487063401131, 'reg_lambda': 0.008991254953513815, 'reg_alpha': 0.003552950464837585, 'gamma': 0.05703718469813068}\n"
     ]
    },
    {
     "name": "stderr",
     "output_type": "stream",
     "text": [
      "\n"
     ]
    }
   ],
   "source": [
    "# 1) Kurulum (gerekirse)\n",
    "# pip install optuna xgboost\n",
    "\n",
    "import optuna\n",
    "import numpy as np\n",
    "from sklearn.model_selection import KFold, cross_val_score\n",
    "from sklearn.compose import ColumnTransformer\n",
    "from sklearn.preprocessing import OneHotEncoder\n",
    "from sklearn.pipeline import Pipeline\n",
    "from xgboost import XGBRegressor\n",
    "\n",
    "# === FE: aynı set (BMI + Intensity) ===\n",
    "X_fe = X.copy()\n",
    "X_fe[\"BMI\"] = X[\"Weight\"] / (X[\"Height\"]/100.0)**2\n",
    "X_fe[\"Intensity\"] = X[\"Duration\"] * X[\"Heart_Rate\"]\n",
    "\n",
    "y = np.log1p(train[\"Calories\"])\n",
    "\n",
    "num_cols = X_fe.select_dtypes(include=[\"number\"]).columns.tolist()\n",
    "cat_cols = X_fe.select_dtypes(exclude=[\"number\"]).columns.tolist()  # ['Sex']\n",
    "\n",
    "pre = ColumnTransformer([\n",
    "    (\"num\", \"passthrough\", num_cols),\n",
    "    (\"cat\", OneHotEncoder(drop=\"first\", handle_unknown=\"ignore\"), cat_cols)\n",
    "])\n",
    "\n",
    "cv = KFold(n_splits=5, shuffle=True, random_state=42)\n",
    "\n",
    "def objective(trial: optuna.Trial):\n",
    "    # --- Arama alanları ---\n",
    "    params = {\n",
    "        \"n_estimators\": trial.suggest_int(\"n_estimators\", 300, 1200),\n",
    "        \"learning_rate\": trial.suggest_float(\"learning_rate\", 0.01, 0.3, log=True),\n",
    "        \"max_depth\": trial.suggest_int(\"max_depth\", 3, 10),\n",
    "        \"min_child_weight\": trial.suggest_float(\"min_child_weight\", 1.0, 10.0),\n",
    "        \"subsample\": trial.suggest_float(\"subsample\", 0.6, 1.0),\n",
    "        \"colsample_bytree\": trial.suggest_float(\"colsample_bytree\", 0.6, 1.0),\n",
    "        \"reg_lambda\": trial.suggest_float(\"reg_lambda\", 1e-3, 10.0, log=True),  # L2\n",
    "        \"reg_alpha\": trial.suggest_float(\"reg_alpha\", 1e-3, 1.0, log=True),     # L1\n",
    "        \"gamma\": trial.suggest_float(\"gamma\", 0.0, 5.0),                         # node split cezası\n",
    "        \"random_state\": 42,\n",
    "        \"n_jobs\": -1,\n",
    "        \"objective\": \"reg:squarederror\",\n",
    "        \"tree_method\": \"hist\",   # hızlı ve genellikle yeterli\n",
    "    }\n",
    "\n",
    "    model = Pipeline([\n",
    "        (\"pre\", pre),\n",
    "        (\"xgb\", XGBRegressor(**params))\n",
    "    ])\n",
    "\n",
    "    # Negatif MSE dönüyor → işaretini çeviriyoruz\n",
    "    scores = cross_val_score(model, X_fe, y, cv=cv, scoring=\"neg_mean_squared_error\")\n",
    "    msle = -scores.mean()\n",
    "    return msle\n",
    "\n",
    "# === Çalıştır ===\n",
    "study = optuna.create_study(direction=\"minimize\")\n",
    "study.optimize(objective, n_trials=20, show_progress_bar=True)  # önce 20 deneme; iyi giderse 50-100'e çıkar\n",
    "print(\"Best MSLE:\", study.best_value)\n",
    "print(\"Best params:\", study.best_params)\n"
   ]
  },
  {
   "cell_type": "code",
   "execution_count": 19,
   "id": "a3fe28ee-6a12-4911-8343-874c3cb2f87f",
   "metadata": {},
   "outputs": [
    {
     "name": "stdout",
     "output_type": "stream",
     "text": [
      "CV MSLE: 0.003585 | CV RMSLE: 0.059877\n"
     ]
    }
   ],
   "source": [
    "best_params = study.best_params\n",
    "best_params.update({\n",
    "    \"random_state\": 42,\n",
    "    \"n_jobs\": -1,\n",
    "    \"objective\": \"reg:squarederror\",\n",
    "    \"tree_method\": \"hist\",\n",
    "})\n",
    "\n",
    "best_model = Pipeline([\n",
    "    (\"pre\", pre),\n",
    "    (\"xgb\", XGBRegressor(**best_params))\n",
    "])\n",
    "\n",
    "# CV ile doğrula\n",
    "scores = cross_val_score(best_model, X_fe, y, cv=cv, scoring=\"neg_mean_squared_error\")\n",
    "best_msle = -scores.mean()\n",
    "best_rmsle = np.sqrt(best_msle)\n",
    "print(f\"CV MSLE: {best_msle:.6f} | CV RMSLE: {best_rmsle:.6f}\")\n"
   ]
  },
  {
   "cell_type": "code",
   "execution_count": 13,
   "id": "31166c90-28f1-489b-9ddc-37fd51b21bd5",
   "metadata": {},
   "outputs": [
    {
     "name": "stdout",
     "output_type": "stream",
     "text": [
      "[Fold 1] best_iter=727  MSLE=0.000125  RMSLE=0.011198\n",
      "[Fold 2] best_iter=604  MSLE=0.000136  RMSLE=0.011644\n",
      "[Fold 3] best_iter=699  MSLE=0.000139  RMSLE=0.011808\n",
      "[Fold 4] best_iter=1239  MSLE=0.000137  RMSLE=0.011701\n",
      "[Fold 5] best_iter=618  MSLE=0.000136  RMSLE=0.011680\n",
      "\n",
      "CV MSLE: 0.00013474994530417257  | CV RMSLE: 0.011606260526753218\n"
     ]
    }
   ],
   "source": [
    "import numpy as np\n",
    "import pandas as pd\n",
    "from sklearn.model_selection import StratifiedKFold\n",
    "from sklearn.compose import ColumnTransformer\n",
    "from sklearn.preprocessing import OneHotEncoder\n",
    "import xgboost as xgb  # <-- Booster API'yi kullanacağız\n",
    "\n",
    "# ==========\n",
    "# Veri & FE\n",
    "# ==========\n",
    "X = train.drop(columns=[\"Calories\", \"id\"]).copy()\n",
    "y_log = np.log1p(train[\"Calories\"]).values\n",
    "\n",
    "X[\"BMI\"] = X[\"Weight\"] / (X[\"Height\"]/100.0)**2\n",
    "X[\"Intensity\"] = X[\"Duration\"] * X[\"Heart_Rate\"]\n",
    "\n",
    "num_cols = X.select_dtypes(include=[\"number\"]).columns.tolist()\n",
    "cat_cols = X.select_dtypes(exclude=[\"number\"]).columns.tolist()\n",
    "\n",
    "pre = ColumnTransformer([\n",
    "    (\"num\", \"passthrough\", num_cols),\n",
    "    (\"cat\", OneHotEncoder(drop=\"first\", handle_unknown=\"ignore\"), cat_cols),\n",
    "])\n",
    "\n",
    "def make_bins(y, n_bins=30):\n",
    "    return pd.qcut(y, q=n_bins, labels=False, duplicates='drop').astype(int)\n",
    "\n",
    "y_bins = make_bins(y_log, n_bins=30)\n",
    "\n",
    "# ===========================\n",
    "# CV + early stopping (train)\n",
    "# ===========================\n",
    "skf = StratifiedKFold(n_splits=5, shuffle=True, random_state=42)\n",
    "fold_msle, fold_rmsle = [], []\n",
    "\n",
    "# XGBoost parametreleri (Booster API formatı)\n",
    "xgb_params = {\n",
    "    \"objective\": \"reg:squarederror\",  # log-uzayında MSE = MSLE\n",
    "    \"eval_metric\": \"rmse\",            # log-uzayında RMSE = RMSLE yorumu\n",
    "    \"eta\": 0.02,                      # learning_rate\n",
    "    \"max_depth\": 8,\n",
    "    \"min_child_weight\": 7.0,\n",
    "    \"subsample\": 0.75,\n",
    "    \"colsample_bytree\": 0.9,\n",
    "    \"lambda\": 0.05,                   # reg_lambda\n",
    "    \"alpha\": 0.003,                   # reg_alpha\n",
    "    \"gamma\": 0.1,\n",
    "    \"tree_method\": \"hist\",\n",
    "    \"seed\": 42,\n",
    "}\n",
    "\n",
    "num_boost_round = 2000\n",
    "early_stopping_rounds = 100\n",
    "\n",
    "for fold, (tr_idx, va_idx) in enumerate(skf.split(X, y_bins), 1):\n",
    "    X_tr, X_va = X.iloc[tr_idx], X.iloc[va_idx]\n",
    "    y_tr, y_va = y_log[tr_idx], y_log[va_idx]\n",
    "\n",
    "    # sızıntısız OHE\n",
    "    pre.fit(X_tr)\n",
    "    X_tr_t = pre.transform(X_tr)   # numpy array veya CSR sparse döner\n",
    "    X_va_t = pre.transform(X_va)\n",
    "\n",
    "    # DMatrix (sparse desteklenir)\n",
    "    dtrain = xgb.DMatrix(X_tr_t, label=y_tr)\n",
    "    dvalid = xgb.DMatrix(X_va_t, label=y_va)\n",
    "\n",
    "    # train + early stopping\n",
    "    booster = xgb.train(\n",
    "        params=xgb_params,\n",
    "        dtrain=dtrain,\n",
    "        num_boost_round=num_boost_round,\n",
    "        evals=[(dvalid, \"valid\")],\n",
    "        early_stopping_rounds=early_stopping_rounds,\n",
    "        verbose_eval=False\n",
    "    )\n",
    "\n",
    "    # en iyi iterasyonda tahmin\n",
    "    try:\n",
    "        y_va_pred = booster.predict(dvalid, iteration_range=(0, booster.best_iteration + 1))\n",
    "    except TypeError:\n",
    "        # eski xgboost sürümleri için\n",
    "        y_va_pred = booster.predict(dvalid, ntree_limit=booster.best_ntree_limit)\n",
    "\n",
    "    msle = float(np.mean((y_va - y_va_pred) ** 2))\n",
    "    rmsle = float(np.sqrt(msle))\n",
    "    fold_msle.append(msle)\n",
    "    fold_rmsle.append(rmsle)\n",
    "\n",
    "    print(f\"[Fold {fold}] best_iter={getattr(booster, 'best_iteration', None)}  MSLE={msle:.6f}  RMSLE={rmsle:.6f}\")\n",
    "\n",
    "print(\"\\nCV MSLE:\", np.mean(fold_msle), \" | CV RMSLE:\", np.mean(fold_rmsle))\n"
   ]
  },
  {
   "cell_type": "code",
   "execution_count": 14,
   "id": "1707b9b8-c07e-421c-bf30-55b0b373b3cc",
   "metadata": {},
   "outputs": [
    {
     "name": "stdout",
     "output_type": "stream",
     "text": [
      "[HOLD-OUT] best_iter=510  MSLE=0.000138  RMSLE=0.011752\n"
     ]
    }
   ],
   "source": [
    "import numpy as np\n",
    "import pandas as pd\n",
    "from sklearn.model_selection import train_test_split\n",
    "from sklearn.compose import ColumnTransformer\n",
    "from sklearn.preprocessing import OneHotEncoder\n",
    "import xgboost as xgb\n",
    "\n",
    "RNG = 42\n",
    "\n",
    "# ------- veri & hedef (log1p) -------\n",
    "X = train.drop(columns=[\"Calories\", \"id\"]).copy()\n",
    "y_log = np.log1p(train[\"Calories\"]).values\n",
    "\n",
    "# FE\n",
    "X[\"BMI\"] = X[\"Weight\"] / (X[\"Height\"]/100.0)**2\n",
    "X[\"Intensity\"] = X[\"Duration\"] * X[\"Heart_Rate\"]\n",
    "\n",
    "# sütunlar ve OHE\n",
    "num_cols = X.select_dtypes(include=[\"number\"]).columns.tolist()\n",
    "cat_cols = X.select_dtypes(exclude=[\"number\"]).columns.tolist()\n",
    "\n",
    "pre = ColumnTransformer([\n",
    "    (\"num\", \"passthrough\", num_cols),\n",
    "    (\"cat\", OneHotEncoder(drop=\"first\", handle_unknown=\"ignore\"), cat_cols),\n",
    "])\n",
    "\n",
    "# stratify için log hedefi kuantile bin'le\n",
    "def make_bins(y, n_bins=30):\n",
    "    return pd.qcut(y, q=n_bins, labels=False, duplicates='drop').astype(int)\n",
    "\n",
    "bins = make_bins(y_log, n_bins=30)\n",
    "\n",
    "# ------- hold-out split (stratified) -------\n",
    "X_tr, X_va, y_tr, y_va = train_test_split(\n",
    "    X, y_log, test_size=0.2, random_state=RNG, stratify=bins\n",
    ")\n",
    "\n",
    "# sızıntısız OHE\n",
    "pre.fit(X_tr)\n",
    "X_tr_t = pre.transform(X_tr)\n",
    "X_va_t = pre.transform(X_va)\n",
    "\n",
    "# xgb parametreleri (CV'de kullandıklarınla aynı bölgede tut)\n",
    "params = {\n",
    "    \"objective\": \"reg:squarederror\",  # log-uzayında MSE = MSLE\n",
    "    \"eval_metric\": \"rmse\",            # log-uzayında RMSE = RMSLE yorumu\n",
    "    \"eta\": 0.02,\n",
    "    \"max_depth\": 8,\n",
    "    \"min_child_weight\": 7.0,\n",
    "    \"subsample\": 0.75,\n",
    "    \"colsample_bytree\": 0.9,\n",
    "    \"lambda\": 0.05,\n",
    "    \"alpha\": 0.003,\n",
    "    \"gamma\": 0.1,\n",
    "    \"tree_method\": \"hist\",\n",
    "    \"seed\": RNG,\n",
    "}\n",
    "\n",
    "dtrain = xgb.DMatrix(X_tr_t, label=y_tr)\n",
    "dvalid = xgb.DMatrix(X_va_t, label=y_va)\n",
    "\n",
    "num_boost_round = 2000\n",
    "es_rounds = 100\n",
    "\n",
    "booster = xgb.train(\n",
    "    params=params,\n",
    "    dtrain=dtrain,\n",
    "    num_boost_round=num_boost_round,\n",
    "    evals=[(dvalid, \"valid\")],\n",
    "    early_stopping_rounds=es_rounds,\n",
    "    verbose_eval=False\n",
    ")\n",
    "\n",
    "# en iyi iterasyonda tahmin\n",
    "try:\n",
    "    y_pred = booster.predict(dvalid, iteration_range=(0, booster.best_iteration + 1))\n",
    "except TypeError:\n",
    "    y_pred = booster.predict(dvalid, ntree_limit=booster.best_ntree_limit)\n",
    "\n",
    "msle_holdout = float(np.mean((y_va - y_pred) ** 2))\n",
    "rmsle_holdout = float(np.sqrt(msle_holdout))\n",
    "print(f\"[HOLD-OUT] best_iter={getattr(booster, 'best_iteration', None)}  MSLE={msle_holdout:.6f}  RMSLE={rmsle_holdout:.6f}\")\n"
   ]
  },
  {
   "cell_type": "code",
   "execution_count": 15,
   "id": "cbca3a9b-ed68-475d-8e8c-697e30d17152",
   "metadata": {},
   "outputs": [
    {
     "name": "stdout",
     "output_type": "stream",
     "text": [
      "[SHUFFLE] best_iter=2  MSLE=0.9348  RMSLE=0.9669\n"
     ]
    }
   ],
   "source": [
    "# hedefi karıştır (etiketleri bozalım)\n",
    "y_log_shuffled = np.random.RandomState(RNG).permutation(y_log)\n",
    "\n",
    "# stratify için yine log hedefin bin'leri (karışık hedefe göre stratify etmeye gerek yok;\n",
    "# ama dağılımsal denge için aynı bins'i kullanabiliriz)\n",
    "X_tr_s, X_va_s, y_tr_s, y_va_s = train_test_split(\n",
    "    X, y_log_shuffled, test_size=0.2, random_state=RNG, stratify=bins\n",
    ")\n",
    "\n",
    "# sızıntısız OHE (yeniden fit!)\n",
    "pre.fit(X_tr_s)\n",
    "X_tr_s_t = pre.transform(X_tr_s)\n",
    "X_va_s_t = pre.transform(X_va_s)\n",
    "\n",
    "dtrain_s = xgb.DMatrix(X_tr_s_t, label=y_tr_s)\n",
    "dvalid_s = xgb.DMatrix(X_va_s_t, label=y_va_s)\n",
    "\n",
    "booster_s = xgb.train(\n",
    "    params=params,\n",
    "    dtrain=dtrain_s,\n",
    "    num_boost_round=num_boost_round,\n",
    "    evals=[(dvalid_s, \"valid\")],\n",
    "    early_stopping_rounds=es_rounds,\n",
    "    verbose_eval=False\n",
    ")\n",
    "\n",
    "try:\n",
    "    y_pred_s = booster_s.predict(dvalid_s, iteration_range=(0, booster_s.best_iteration + 1))\n",
    "except TypeError:\n",
    "    y_pred_s = booster_s.predict(dvalid_s, ntree_limit=booster_s.best_ntree_limit)\n",
    "\n",
    "msle_shuffle = float(np.mean((y_va_s - y_pred_s) ** 2))\n",
    "rmsle_shuffle = float(np.sqrt(msle_shuffle))\n",
    "print(f\"[SHUFFLE] best_iter={getattr(booster_s, 'best_iteration', None)}  MSLE={msle_shuffle:.4f}  RMSLE={rmsle_shuffle:.4f}\")\n"
   ]
  },
  {
   "cell_type": "code",
   "execution_count": 17,
   "id": "914b9aff-4884-46f4-b500-7fa449e89247",
   "metadata": {},
   "outputs": [
    {
     "name": "stdout",
     "output_type": "stream",
     "text": [
      "submission.csv oluşturuldu ✅\n"
     ]
    }
   ],
   "source": [
    "import numpy as np\n",
    "import pandas as pd\n",
    "from sklearn.compose import ColumnTransformer\n",
    "from sklearn.preprocessing import OneHotEncoder\n",
    "from xgboost import XGBRegressor\n",
    "\n",
    "# ===== 1) Veri yükleme =====\n",
    "train = pd.read_csv(\"data/train.csv\")\n",
    "test = pd.read_csv(\"data/test.csv\")\n",
    "\n",
    "# ===== 2) Hedef ve özellikler =====\n",
    "X_train = train.drop(columns=[\"Calories\", \"id\"]).copy()\n",
    "y_train_log = np.log1p(train[\"Calories\"]).values\n",
    "X_test = test.drop(columns=[\"id\"]).copy()\n",
    "\n",
    "# ===== 3) Feature Engineering =====\n",
    "for df in [X_train, X_test]:\n",
    "    df[\"BMI\"] = df[\"Weight\"] / (df[\"Height\"]/100.0)**2\n",
    "    df[\"Intensity\"] = df[\"Duration\"] * df[\"Heart_Rate\"]\n",
    "\n",
    "# ===== 4) Sütun tipleri =====\n",
    "num_cols = X_train.select_dtypes(include=[\"number\"]).columns.tolist()\n",
    "cat_cols = X_train.select_dtypes(exclude=[\"number\"]).columns.tolist()\n",
    "\n",
    "# ===== 5) Ön-işleme =====\n",
    "pre = ColumnTransformer([\n",
    "    (\"num\", \"passthrough\", num_cols),\n",
    "    (\"cat\", OneHotEncoder(drop=\"first\", handle_unknown=\"ignore\"), cat_cols),\n",
    "])\n",
    "\n",
    "X_train_t = pre.fit_transform(X_train)\n",
    "X_test_t = pre.transform(X_test)\n",
    "\n",
    "# ===== 6) Model =====\n",
    "model = XGBRegressor(\n",
    "    n_estimators=900,              # CV'deki best_iter ortalaması civarı\n",
    "    learning_rate=0.02,\n",
    "    max_depth=8,\n",
    "    min_child_weight=7.0,\n",
    "    subsample=0.75,\n",
    "    colsample_bytree=0.9,\n",
    "    reg_lambda=0.05,\n",
    "    reg_alpha=0.003,\n",
    "    gamma=0.1,\n",
    "    objective=\"reg:squarederror\",\n",
    "    tree_method=\"hist\",\n",
    "    n_jobs=-1,\n",
    "    random_state=42\n",
    ")\n",
    "\n",
    "# ===== 7) Fit =====\n",
    "model.fit(X_train_t, y_train_log)\n",
    "\n",
    "# ===== 8) Test tahmini =====\n",
    "y_pred_log = model.predict(X_test_t)\n",
    "y_pred = np.expm1(y_pred_log)  # log1p ters dönüşüm\n",
    "\n",
    "# ===== 9) Submission =====\n",
    "submission = pd.DataFrame({\n",
    "    \"id\": test[\"id\"],\n",
    "    \"Calories\": y_pred\n",
    "})\n",
    "submission.to_csv(\"submission.csv\", index=False)\n",
    "\n",
    "print(\"submission.csv oluşturuldu ✅\")\n"
   ]
  },
  {
   "cell_type": "code",
   "execution_count": null,
   "id": "8436d0bc-eee8-40c1-9422-af233867b8ff",
   "metadata": {},
   "outputs": [],
   "source": []
  }
 ],
 "metadata": {
  "kernelspec": {
   "display_name": "Python 3 (ipykernel)",
   "language": "python",
   "name": "python3"
  },
  "language_info": {
   "codemirror_mode": {
    "name": "ipython",
    "version": 3
   },
   "file_extension": ".py",
   "mimetype": "text/x-python",
   "name": "python",
   "nbconvert_exporter": "python",
   "pygments_lexer": "ipython3",
   "version": "3.13.5"
  }
 },
 "nbformat": 4,
 "nbformat_minor": 5
}
